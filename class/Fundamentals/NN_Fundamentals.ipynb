{
  "cells": [
    {
      "cell_type": "markdown",
      "metadata": {
        "id": "5rfYqRFUu-Nh"
      },
      "source": [
        "It is highly recommended to use a powerful **GPU**, you can use it for free uploading this notebook to [Google Colab](https://colab.research.google.com/notebooks/intro.ipynb).\n",
        "<table align=\"center\">\n",
        " <td align=\"center\"><a target=\"_blank\" href=\"https://colab.research.google.com/github/ezponda/intro_deep_learning/blob/main/class/Fundamentals/NN_Fundamentals.ipynb\">\n",
        "        <img src=\"https://colab.research.google.com/img/colab_favicon_256px.png\"  width=\"50\" height=\"50\" style=\"padding-bottom:5px;\" />Run in Google Colab</a></td>\n",
        "  <td align=\"center\"><a target=\"_blank\" href=\"https://github.com/ezponda/intro_deep_learning/blob/main/class/Fundamentals/NN_Fundamentals.ipynb\">\n",
        "        <img src=\"https://github.githubassets.com/images/modules/logos_page/GitHub-Mark.png\"  width=\"50\" height=\"50\" style=\"padding-bottom:5px;\" />View Source on GitHub</a></td>\n",
        "</table>"
      ]
    },
    {
      "cell_type": "code",
      "execution_count": 2,
      "metadata": {
        "id": "zKMUSwIeu-Ni"
      },
      "outputs": [],
      "source": [
        "import tensorflow as tf\n",
        "from tensorflow import keras\n",
        "from tensorflow.keras import layers\n",
        "\n",
        "import numpy as np\n",
        "import sklearn\n",
        "import sklearn.datasets\n",
        "import sklearn.linear_model\n",
        "import matplotlib.pyplot as plt\n",
        "%matplotlib inline\n",
        "\n",
        "tf.random.set_seed(0)"
      ]
    },
    {
      "cell_type": "code",
      "execution_count": 3,
      "metadata": {
        "id": "7D6nSQ2Cu-Nj"
      },
      "outputs": [],
      "source": [
        "\n",
        "def plot_decision_boundary(model, X, y):\n",
        "    # Set min and max values and give it some padding\n",
        "    x_min, x_max = X[:, 0].min() - 1, X[:, 0].max() + 1\n",
        "    y_min, y_max = X[:,1].min() - 1, X[:,1].max() + 1\n",
        "    h = 0.05\n",
        "    # Generate a grid of points with distance h between them\n",
        "    xx, yy = np.meshgrid(np.arange(x_min, x_max, h), np.arange(y_min, y_max, h))\n",
        "    # Predict the function value for the whole grid\n",
        "    Z = model(np.c_[xx.ravel(), yy.ravel()])\n",
        "    Z = Z.reshape(xx.shape)\n",
        "    # Plot the contour and training examples\n",
        "    plt.contourf(xx, yy, Z, cmap=plt.cm.Spectral)\n",
        "    plt.ylabel('x2')\n",
        "    plt.xlabel('x1')\n",
        "    plt.scatter(X[:,0], X[:,1], c=y.ravel(), cmap=plt.cm.Spectral)\n",
        "\n",
        "def load_planar_dataset(m, sigma=0.2):\n",
        "    N = int(m/2) # number of points per class\n",
        "    D = 2 # dimensionality\n",
        "    X = np.zeros((m,D)) # data matrix where each row is a single example\n",
        "    Y = np.zeros((m,1), dtype='uint8') # labels vector (0 for red, 1 for blue)\n",
        "    a = 4 # maximum ray of the flower\n",
        "\n",
        "    for j in range(2):\n",
        "        ix = range(N*j,N*(j+1))\n",
        "        t = np.linspace(j*3.12,(j+1)*3.12,N) + np.random.randn(N)*sigma # theta\n",
        "        r = a*np.sin(4*t) + np.random.randn(N)*sigma # radius\n",
        "        X[ix] = np.c_[r*np.sin(t), r*np.cos(t)]\n",
        "        Y[ix] = j\n",
        "\n",
        "    ## premuting ouput\n",
        "    p = np.random.permutation(m)\n",
        "    X = X[p,:]\n",
        "    Y = Y[p,:]\n",
        "\n",
        "    return X, Y.ravel()\n",
        "\n",
        "def draw_neural_net(left, right, bottom, top, layer_sizes):\n",
        "    '''\n",
        "    From https://gist.github.com/craffel/2d727968c3aaebd10359#file-draw_neural_net-py\n",
        "    Draw a neural network cartoon using matplotilb.\n",
        "\n",
        "    :usage:\n",
        "        >>> fig = plt.figure(figsize=(12, 12))\n",
        "        >>> draw_neural_net(fig.gca(), .1, .9, .1, .9, [4, 7, 2])\n",
        "\n",
        "    :parameters:\n",
        "        - ax : matplotlib.axes.AxesSubplot\n",
        "            The axes on which to plot the cartoon (get e.g. by plt.gca())\n",
        "        - left : float\n",
        "            The center of the leftmost node(s) will be placed here\n",
        "        - right : float\n",
        "            The center of the rightmost node(s) will be placed here\n",
        "        - bottom : float\n",
        "            The center of the bottommost node(s) will be placed here\n",
        "        - top : float\n",
        "            The center of the topmost node(s) will be placed here\n",
        "        - layer_sizes : list of int\n",
        "            List of layer sizes, including input and output dimensionality\n",
        "    '''\n",
        "    fig = plt.figure(figsize=(3, 3))\n",
        "    ax = fig.gca()\n",
        "    ax.axis('off')\n",
        "\n",
        "    n_layers = len(layer_sizes)\n",
        "    v_spacing = (top - bottom)/float(max(layer_sizes))\n",
        "    h_spacing = (right - left)/float(len(layer_sizes) - 1)\n",
        "    # Nodes\n",
        "    for n, layer_size in enumerate(layer_sizes):\n",
        "        layer_top = v_spacing*(layer_size - 1)/2. + (top + bottom)/2.\n",
        "        for m in range(layer_size):\n",
        "            circle = plt.Circle((n*h_spacing + left, layer_top - m*v_spacing), v_spacing/4.,\n",
        "                                color='w', ec='k', zorder=4)\n",
        "            ax.add_artist(circle)\n",
        "    # Edges\n",
        "    for n, (layer_size_a, layer_size_b) in enumerate(zip(layer_sizes[:-1], layer_sizes[1:])):\n",
        "        layer_top_a = v_spacing*(layer_size_a - 1)/2. + (top + bottom)/2.\n",
        "        layer_top_b = v_spacing*(layer_size_b - 1)/2. + (top + bottom)/2.\n",
        "        for m in range(layer_size_a):\n",
        "            for o in range(layer_size_b):\n",
        "                line = plt.Line2D([n*h_spacing + left, (n + 1)*h_spacing + left],\n",
        "                                  [layer_top_a - m*v_spacing, layer_top_b - o*v_spacing], c='k')\n",
        "                ax.add_artist(line)"
      ]
    },
    {
      "cell_type": "markdown",
      "metadata": {
        "id": "SO-f4IoPu-Nj"
      },
      "source": [
        "## Dataset\n",
        "\n",
        "We have a binary classification dataset. The target `y` has two possible values, {0,1} and the input vector `x` has two dimensions."
      ]
    },
    {
      "cell_type": "code",
      "execution_count": 4,
      "metadata": {
        "id": "k6lXbWvGu-Nj"
      },
      "outputs": [],
      "source": [
        "N = 5000\n",
        "X, y = load_planar_dataset(N, 0.2)"
      ]
    },
    {
      "cell_type": "markdown",
      "metadata": {
        "id": "ZSQYS90Eu-Nj"
      },
      "source": [
        "Visualize the dataset using matplotlib. The data looks like a \"flower\" with some red (label y=0) and some blue (y=1) points. Your goal is to build a model to fit this data."
      ]
    },
    {
      "cell_type": "code",
      "execution_count": 5,
      "metadata": {
        "colab": {
          "base_uri": "https://localhost:8080/",
          "height": 430
        },
        "id": "XDPrxWLwu-Nj",
        "outputId": "86692255-2b7d-4f6c-969b-97bc67af6fe1"
      },
      "outputs": [
        {
          "output_type": "display_data",
          "data": {
            "text/plain": [
              "<Figure size 640x480 with 1 Axes>"
            ],
            "image/png": "[encoded data removed]"
          },
          "metadata": {}
        }
      ],
      "source": [
        "# Visualize the data:\n",
        "plt.scatter(X[:,0], X[:,1], c=y.ravel(), s=40, cmap=plt.cm.Spectral);"
      ]
    },
    {
      "cell_type": "code",
      "execution_count": 6,
      "metadata": {
        "id": "6Oy2xldJu-Nk"
      },
      "outputs": [],
      "source": [
        "# train test split\n",
        "from sklearn.model_selection import train_test_split\n",
        "\n",
        "(X_train, X_test, y_train, y_test) = train_test_split(\n",
        "    X,\n",
        "    y,\n",
        "    test_size=0.2,\n",
        ")"
      ]
    },
    {
      "cell_type": "code",
      "execution_count": 7,
      "metadata": {
        "colab": {
          "base_uri": "https://localhost:8080/"
        },
        "id": "azp3vTGfu-Nk",
        "outputId": "aeb0a40b-b5ad-4c3b-a2cb-b0c68c7d7e0e"
      },
      "outputs": [
        {
          "output_type": "stream",
          "name": "stdout",
          "text": [
            "X shape:(5000, 2), y shape:(5000,)\n",
            "X_train shape:(4000, 2), y_train shape:(4000,)\n",
            "X_test shape:(1000, 2), y_test shape:(1000,)\n"
          ]
        }
      ],
      "source": [
        "print('X shape:{0}, y shape:{1}'.format(X.shape, y.shape))\n",
        "print('X_train shape:{0}, y_train shape:{1}'.format(X_train.shape,\n",
        "                                                    y_train.shape))\n",
        "print('X_test shape:{0}, y_test shape:{1}'.format(X_test.shape, y_test.shape))"
      ]
    },
    {
      "cell_type": "code",
      "execution_count": 8,
      "metadata": {
        "colab": {
          "base_uri": "https://localhost:8080/"
        },
        "id": "zhqXhm7Wu-Nk",
        "outputId": "be90b107-fba4-42dc-c4e5-d6a9c32e8d88"
      },
      "outputs": [
        {
          "output_type": "execute_result",
          "data": {
            "text/plain": [
              "array([-3.06859842,  0.64677708])"
            ]
          },
          "metadata": {},
          "execution_count": 8
        }
      ],
      "source": [
        "## X first example\n",
        "X[0,:]"
      ]
    },
    {
      "cell_type": "code",
      "execution_count": 9,
      "metadata": {
        "colab": {
          "base_uri": "https://localhost:8080/"
        },
        "id": "9qdsN48Bu-Nk",
        "outputId": "0d3c06bd-fb51-4e13-a881-e4f8df30061d"
      },
      "outputs": [
        {
          "output_type": "execute_result",
          "data": {
            "text/plain": [
              "array([1, 0, 1, 0, 0, 1, 1, 1], dtype=uint8)"
            ]
          },
          "metadata": {},
          "execution_count": 9
        }
      ],
      "source": [
        "## Y firsts examples\n",
        "y[:8]"
      ]
    },
    {
      "cell_type": "markdown",
      "metadata": {
        "id": "sUXCaoIUu-Nk"
      },
      "source": [
        "## First NN in Keras\n",
        "\n",
        "### Logistic regression\n",
        "\n",
        "Fully connected layers are defined using the [Dense](https://www.tensorflow.org/api_docs/python/tf/keras/layers/Dense) class. We can specify the number of neurons as the first argument, and specify the activation function using the activation argument.\n",
        "\n",
        "```python\n",
        "tf.keras.layers.Dense(\n",
        "    units, activation=None\n",
        ")\n",
        "\n",
        "```\n",
        "\n",
        "- **units**: Number of neurons in the layer.\n",
        "- **activation**: Activation function to use, default function is `linear`, you can also use `sigmoid` for sigmoid activation or [other alternatives](https://www.tensorflow.org/api_docs/python/tf/keras/activations)\n",
        "\n",
        "For defining the input layer you can use `keras.Input(shape=(input_dimension,))` or define your input dimension in the first hidden layer.\n",
        "\n",
        "```python\n",
        "layers.Dense(4, activation=\"sigmoid\", input_shape=(input_dimension,))\n",
        "\n",
        "```\n",
        "\n",
        "Build a network without hidden layer"
      ]
    },
    {
      "cell_type": "code",
      "execution_count": 10,
      "metadata": {
        "colab": {
          "base_uri": "https://localhost:8080/",
          "height": 268
        },
        "id": "Wd9Um8ePu-Nk",
        "outputId": "a875270d-5d1d-4834-c0c4-5c9bcb35229c"
      },
      "outputs": [
        {
          "output_type": "display_data",
          "data": {
            "text/plain": [
              "<Figure size 300x300 with 1 Axes>"
            ],
            "image/png": "[encoded data removed]"
          },
          "metadata": {}
        }
      ],
      "source": [
        "draw_neural_net(.1, .9, .1, .9, [2, 1])"
      ]
    },
    {
      "cell_type": "code",
      "execution_count": 11,
      "metadata": {
        "colab": {
          "base_uri": "https://localhost:8080/"
        },
        "id": "_oh0k9Etu-Nl",
        "outputId": "71cf86e2-09a6-4e67-b384-b03eae7188a0"
      },
      "outputs": [
        {
          "output_type": "stream",
          "name": "stderr",
          "text": [
            "/usr/local/lib/python3.12/dist-packages/keras/src/layers/core/dense.py:93: UserWarning: Do not pass an `input_shape`/`input_dim` argument to a layer. When using Sequential models, prefer using an `Input(shape)` object as the first layer in the model instead.\n",
            "  super().__init__(activity_regularizer=activity_regularizer, **kwargs)\n"
          ]
        }
      ],
      "source": [
        "model = keras.Sequential()\n",
        "# The dimension of the input is 2 (planar data)\n",
        "# we have only one output layer with 1 neuron\n",
        "model.add(keras.layers.Dense(1, input_shape=(2, ), activation='sigmoid'))"
      ]
    },
    {
      "cell_type": "code",
      "execution_count": 12,
      "metadata": {
        "colab": {
          "base_uri": "https://localhost:8080/",
          "height": 168
        },
        "id": "YJWRexJIu-Nl",
        "outputId": "dc6b391e-5393-4f38-9a78-d7f310c7cc15"
      },
      "outputs": [
        {
          "output_type": "display_data",
          "data": {
            "text/plain": [
              "\u001b[1mModel: \"sequential\"\u001b[0m\n"
            ],
            "text/html": [
              "<pre style=\"white-space:pre;overflow-x:auto;line-height:normal;font-family:Menlo,'DejaVu Sans Mono',consolas,'Courier New',monospace\"><span style=\"font-weight: bold\">Model: \"sequential\"</span>\n",
              "</pre>\n"
            ]
          },
          "metadata": {}
        },
        {
          "output_type": "display_data",
          "data": {
            "text/plain": [
              "┏━━━━━━━━━━━━━━━━━━━━━━━━━━━━━━━━━┳━━━━━━━━━━━━━━━━━━━━━━━━┳━━━━━━━━━━━━━━━┓\n",
              "┃\u001b[1m \u001b[0m\u001b[1mLayer (type)                   \u001b[0m\u001b[1m \u001b[0m┃\u001b[1m \u001b[0m\u001b[1mOutput Shape          \u001b[0m\u001b[1m \u001b[0m┃\u001b[1m \u001b[0m\u001b[1m      Param #\u001b[0m\u001b[1m \u001b[0m┃\n",
              "┡━━━━━━━━━━━━━━━━━━━━━━━━━━━━━━━━━╇━━━━━━━━━━━━━━━━━━━━━━━━╇━━━━━━━━━━━━━━━┩\n",
              "│ dense (\u001b[38;5;33mDense\u001b[0m)                   │ (\u001b[38;5;45mNone\u001b[0m, \u001b[38;5;34m1\u001b[0m)              │             \u001b[38;5;34m3\u001b[0m │\n",
              "└─────────────────────────────────┴────────────────────────┴───────────────┘\n"
            ],
            "text/html": [
              "<pre style=\"white-space:pre;overflow-x:auto;line-height:normal;font-family:Menlo,'DejaVu Sans Mono',consolas,'Courier New',monospace\">┏━━━━━━━━━━━━━━━━━━━━━━━━━━━━━━━━━┳━━━━━━━━━━━━━━━━━━━━━━━━┳━━━━━━━━━━━━━━━┓\n",
              "┃<span style=\"font-weight: bold\"> Layer (type)                    </span>┃<span style=\"font-weight: bold\"> Output Shape           </span>┃<span style=\"font-weight: bold\">       Param # </span>┃\n",
              "┡━━━━━━━━━━━━━━━━━━━━━━━━━━━━━━━━━╇━━━━━━━━━━━━━━━━━━━━━━━━╇━━━━━━━━━━━━━━━┩\n",
              "│ dense (<span style=\"color: #0087ff; text-decoration-color: #0087ff\">Dense</span>)                   │ (<span style=\"color: #00d7ff; text-decoration-color: #00d7ff\">None</span>, <span style=\"color: #00af00; text-decoration-color: #00af00\">1</span>)              │             <span style=\"color: #00af00; text-decoration-color: #00af00\">3</span> │\n",
              "└─────────────────────────────────┴────────────────────────┴───────────────┘\n",
              "</pre>\n"
            ]
          },
          "metadata": {}
        },
        {
          "output_type": "display_data",
          "data": {
            "text/plain": [
              "\u001b[1m Total params: \u001b[0m\u001b[38;5;34m3\u001b[0m (12.00 B)\n"
            ],
            "text/html": [
              "<pre style=\"white-space:pre;overflow-x:auto;line-height:normal;font-family:Menlo,'DejaVu Sans Mono',consolas,'Courier New',monospace\"><span style=\"font-weight: bold\"> Total params: </span><span style=\"color: #00af00; text-decoration-color: #00af00\">3</span> (12.00 B)\n",
              "</pre>\n"
            ]
          },
          "metadata": {}
        },
        {
          "output_type": "display_data",
          "data": {
            "text/plain": [
              "\u001b[1m Trainable params: \u001b[0m\u001b[38;5;34m3\u001b[0m (12.00 B)\n"
            ],
            "text/html": [
              "<pre style=\"white-space:pre;overflow-x:auto;line-height:normal;font-family:Menlo,'DejaVu Sans Mono',consolas,'Courier New',monospace\"><span style=\"font-weight: bold\"> Trainable params: </span><span style=\"color: #00af00; text-decoration-color: #00af00\">3</span> (12.00 B)\n",
              "</pre>\n"
            ]
          },
          "metadata": {}
        },
        {
          "output_type": "display_data",
          "data": {
            "text/plain": [
              "\u001b[1m Non-trainable params: \u001b[0m\u001b[38;5;34m0\u001b[0m (0.00 B)\n"
            ],
            "text/html": [
              "<pre style=\"white-space:pre;overflow-x:auto;line-height:normal;font-family:Menlo,'DejaVu Sans Mono',consolas,'Courier New',monospace\"><span style=\"font-weight: bold\"> Non-trainable params: </span><span style=\"color: #00af00; text-decoration-color: #00af00\">0</span> (0.00 B)\n",
              "</pre>\n"
            ]
          },
          "metadata": {}
        }
      ],
      "source": [
        "model.summary()"
      ]
    },
    {
      "cell_type": "code",
      "execution_count": 14,
      "metadata": {
        "colab": {
          "base_uri": "https://localhost:8080/",
          "height": 273
        },
        "id": "21_gdonfu-Nl",
        "outputId": "de9a721d-3c37-4fbe-ab3f-fddf804ef94e"
      },
      "outputs": [
        {
          "output_type": "execute_result",
          "data": {
            "image/png": "[encoded data removed]",
            "text/plain": [
              "<IPython.core.display.Image object>"
            ]
          },
          "metadata": {},
          "execution_count": 14
        }
      ],
      "source": [
        "from tensorflow.keras.utils import plot_model\n",
        "plot_model(model, show_shapes=True)"
      ]
    },
    {
      "cell_type": "markdown",
      "metadata": {
        "id": "rO8hMuiZu-Nl"
      },
      "source": [
        "#### Compile\n",
        "Now we need to specify the loss function, the metrics and the optimizer. It is done using compile function in Keras."
      ]
    },
    {
      "cell_type": "code",
      "execution_count": 15,
      "metadata": {
        "id": "KDorh2guu-Nl"
      },
      "outputs": [],
      "source": [
        "model.compile(\n",
        "    optimizer='adam',\n",
        "    loss='binary_crossentropy',\n",
        "    metrics=['accuracy']\n",
        ")"
      ]
    },
    {
      "cell_type": "markdown",
      "metadata": {
        "id": "KY4hcvBFu-Nl"
      },
      "source": [
        "#### Training model\n",
        "This is similar to a sklearn model."
      ]
    },
    {
      "cell_type": "code",
      "execution_count": 16,
      "metadata": {
        "colab": {
          "base_uri": "https://localhost:8080/"
        },
        "id": "S3hrx_Wlu-Nl",
        "outputId": "6df6f9f5-7318-4020-f98f-5591c5b52492"
      },
      "outputs": [
        {
          "output_type": "stream",
          "name": "stdout",
          "text": [
            "Epoch 1/10\n",
            "\u001b[1m100/100\u001b[0m \u001b[32m━━━━━━━━━━━━━━━━━━━━\u001b[0m\u001b[37m\u001b[0m \u001b[1m1s\u001b[0m 6ms/step - accuracy: 0.5892 - loss: 0.9527 - val_accuracy: 0.6125 - val_loss: 0.9179\n",
            "Epoch 2/10\n",
            "\u001b[1m100/100\u001b[0m \u001b[32m━━━━━━━━━━━━━━━━━━━━\u001b[0m\u001b[37m\u001b[0m \u001b[1m0s\u001b[0m 4ms/step - accuracy: 0.5948 - loss: 0.9014 - val_accuracy: 0.6150 - val_loss: 0.8688\n",
            "Epoch 3/10\n",
            "\u001b[1m100/100\u001b[0m \u001b[32m━━━━━━━━━━━━━━━━━━━━\u001b[0m\u001b[37m\u001b[0m \u001b[1m0s\u001b[0m 4ms/step - accuracy: 0.6017 - loss: 0.8547 - val_accuracy: 0.6237 - val_loss: 0.8254\n",
            "Epoch 4/10\n",
            "\u001b[1m100/100\u001b[0m \u001b[32m━━━━━━━━━━━━━━━━━━━━\u001b[0m\u001b[37m\u001b[0m \u001b[1m1s\u001b[0m 5ms/step - accuracy: 0.6114 - loss: 0.8136 - val_accuracy: 0.6400 - val_loss: 0.7883\n",
            "Epoch 5/10\n",
            "\u001b[1m100/100\u001b[0m \u001b[32m━━━━━━━━━━━━━━━━━━━━\u001b[0m\u001b[37m\u001b[0m \u001b[1m0s\u001b[0m 4ms/step - accuracy: 0.6232 - loss: 0.7787 - val_accuracy: 0.6513 - val_loss: 0.7576\n",
            "Epoch 6/10\n",
            "\u001b[1m100/100\u001b[0m \u001b[32m━━━━━━━━━━━━━━━━━━━━\u001b[0m\u001b[37m\u001b[0m \u001b[1m0s\u001b[0m 2ms/step - accuracy: 0.6418 - loss: 0.7500 - val_accuracy: 0.6762 - val_loss: 0.7332\n",
            "Epoch 7/10\n",
            "\u001b[1m100/100\u001b[0m \u001b[32m━━━━━━━━━━━━━━━━━━━━\u001b[0m\u001b[37m\u001b[0m \u001b[1m0s\u001b[0m 3ms/step - accuracy: 0.6642 - loss: 0.7272 - val_accuracy: 0.6675 - val_loss: 0.7144\n",
            "Epoch 8/10\n",
            "\u001b[1m100/100\u001b[0m \u001b[32m━━━━━━━━━━━━━━━━━━━━\u001b[0m\u001b[37m\u001b[0m \u001b[1m0s\u001b[0m 3ms/step - accuracy: 0.6575 - loss: 0.7097 - val_accuracy: 0.6263 - val_loss: 0.7005\n",
            "Epoch 9/10\n",
            "\u001b[1m100/100\u001b[0m \u001b[32m━━━━━━━━━━━━━━━━━━━━\u001b[0m\u001b[37m\u001b[0m \u001b[1m0s\u001b[0m 3ms/step - accuracy: 0.6257 - loss: 0.6968 - val_accuracy: 0.6062 - val_loss: 0.6906\n",
            "Epoch 10/10\n",
            "\u001b[1m100/100\u001b[0m \u001b[32m━━━━━━━━━━━━━━━━━━━━\u001b[0m\u001b[37m\u001b[0m \u001b[1m0s\u001b[0m 2ms/step - accuracy: 0.5913 - loss: 0.6875 - val_accuracy: 0.5713 - val_loss: 0.6837\n"
          ]
        },
        {
          "output_type": "execute_result",
          "data": {
            "text/plain": [
              "<keras.src.callbacks.history.History at 0x78e7a9c152e0>"
            ]
          },
          "metadata": {},
          "execution_count": 16
        }
      ],
      "source": [
        "model.fit(X_train, y_train, epochs=10,\n",
        "          validation_split=0.2, batch_size=32)"
      ]
    },
    {
      "cell_type": "markdown",
      "metadata": {
        "id": "5qW_l9u4u-Nl"
      },
      "source": [
        "#### Making predictions"
      ]
    },
    {
      "cell_type": "code",
      "execution_count": null,
      "metadata": {
        "id": "GEGHnrHju-Nl"
      },
      "outputs": [],
      "source": [
        "results = model.evaluate(X_test, y_test, verbose=0)\n",
        "print('Test Loss: {}'.format(results[0]))\n",
        "print('Test Accuracy: {}'.format(results[1]))"
      ]
    },
    {
      "cell_type": "code",
      "execution_count": null,
      "metadata": {
        "id": "0MX0ut7Lu-Nl"
      },
      "outputs": [],
      "source": [
        "y_pred = model.predict(X_test)\n",
        "y_pred[:3], y_test[:3]"
      ]
    },
    {
      "cell_type": "code",
      "execution_count": null,
      "metadata": {
        "id": "6NBZAB2Ou-Nl"
      },
      "outputs": [],
      "source": [
        "plot_decision_boundary(lambda x: (\n",
        "    model.predict(x) > 0.5).astype(\"int32\"), X_test, y_test)\n",
        "plt.title(\"Basic NN\");"
      ]
    },
    {
      "cell_type": "markdown",
      "metadata": {
        "id": "F89TQ63hu-Nl"
      },
      "source": [
        "### One hidden layer NN\n",
        "\n",
        "- One **input with 2 features (input_shape)**\n",
        "- **One hidden dense layer**,  with **3 neurons** and implemented with  **sigmoid activating function**\n",
        "- **One Output** (sigmoid output activation function)\n",
        "\n",
        "We can create layers incrementally with the method `add()`:"
      ]
    },
    {
      "cell_type": "code",
      "execution_count": null,
      "metadata": {
        "id": "FDaCxkuRu-Nl"
      },
      "outputs": [],
      "source": [
        "draw_neural_net(.1, .9, .1, .9, [2, 3, 1])"
      ]
    },
    {
      "cell_type": "code",
      "execution_count": null,
      "metadata": {
        "id": "dVyzVMR7u-Nm"
      },
      "outputs": [],
      "source": [
        "model = keras.Sequential()\n",
        "\n",
        "## hidden layer with 3 neurons and sigmoid activation\n",
        "## The first layer need to have the input_shape\n",
        "model.add(layers.Dense(3, input_shape=(2,), activation='sigmoid'))\n",
        "\n",
        "# output layer\n",
        "model.add(layers.Dense(1, activation='sigmoid'))\n",
        "\n",
        "## model summary\n",
        "model.summary()"
      ]
    },
    {
      "cell_type": "markdown",
      "metadata": {
        "id": "o5gP-i_6u-Nm"
      },
      "source": [
        "You can also define the model with a list of layers\n",
        "```python\n",
        "model = keras.Sequential([\n",
        "    keras.Input(shape=(2, )),\n",
        "    layers.Dense(3, activation='sigmoid', name='layer1'),\n",
        "    layers.Dense(1, activation='sigmoid', name='layer3')\n",
        "])\n",
        "````"
      ]
    },
    {
      "cell_type": "code",
      "execution_count": null,
      "metadata": {
        "id": "zJf1BGAJu-Nm"
      },
      "outputs": [],
      "source": [
        "plot_model(model, show_shapes=True)"
      ]
    },
    {
      "cell_type": "code",
      "execution_count": null,
      "metadata": {
        "id": "siH6NvMEu-Nm"
      },
      "outputs": [],
      "source": [
        "## compiling and training\n",
        "model.compile(\n",
        "    optimizer='adam',\n",
        "    loss='binary_crossentropy',\n",
        "    metrics=['accuracy']\n",
        ")\n",
        "model.fit(X_train, y_train, epochs=25, validation_split=0.2, batch_size=32)"
      ]
    },
    {
      "cell_type": "code",
      "execution_count": null,
      "metadata": {
        "id": "C8HcaCqUu-Nm"
      },
      "outputs": [],
      "source": [
        "results = model.evaluate(X_test, y_test, verbose=0)\n",
        "print('Test Loss: {}'.format(results[0]))\n",
        "print('Test Accuracy: {}'.format(results[1]))"
      ]
    },
    {
      "cell_type": "code",
      "execution_count": null,
      "metadata": {
        "id": "AagmVG8Bu-Nm"
      },
      "outputs": [],
      "source": [
        "plot_decision_boundary(lambda x: (\n",
        "    model.predict(x) > 0.5).astype(\"int32\"), X_test, y_test)\n",
        "plt.title(\"1 Hidden layer NN\");"
      ]
    },
    {
      "cell_type": "markdown",
      "metadata": {
        "id": "4RYUyHH7u-Nm"
      },
      "source": [
        "### Question 1:\n",
        "####  What happens if we change the activation function of the first hidden  layer to `'linear'`?"
      ]
    },
    {
      "cell_type": "code",
      "execution_count": null,
      "metadata": {
        "id": "mr56BDnsu-Nm"
      },
      "outputs": [],
      "source": [
        "model = keras.Sequential()\n",
        "## The first layer need to have the input_shape\n",
        "## change the activation function\n",
        "model.add(layers.Dense(3, input_shape=(2,), activation=...))\n",
        "# output layer\n",
        "model.add(layers.Dense(1, activation='sigmoid'))"
      ]
    },
    {
      "cell_type": "code",
      "execution_count": null,
      "metadata": {
        "id": "E413Il-wu-Nm"
      },
      "outputs": [],
      "source": [
        "## compiling and training\n",
        "model.compile(\n",
        "    optimizer='adam',\n",
        "    loss='binary_crossentropy',\n",
        "    metrics=['accuracy']\n",
        ")\n",
        "model.fit(X_train, y_train, epochs=25, validation_split=0.2, batch_size=32)"
      ]
    },
    {
      "cell_type": "code",
      "execution_count": null,
      "metadata": {
        "id": "svtB0Dq6u-Nm"
      },
      "outputs": [],
      "source": [
        "results = model.evaluate(X_test, y_test, verbose=0)\n",
        "print('Test Loss: {}'.format(results[0]))\n",
        "print('Test Accuracy: {}'.format(results[1]))\n",
        "plot_decision_boundary(lambda x: (\n",
        "    model.predict(x) > 0.5).astype(\"int32\"), X_test, y_test)\n",
        "plt.title(\"1 Hidden layer NN, linear activation\");"
      ]
    },
    {
      "cell_type": "markdown",
      "metadata": {
        "id": "g6K9SRMRu-Nm"
      },
      "source": [
        "### Question 2:\n",
        "####  What happens if we add more neurons to the first hidden layer ?"
      ]
    },
    {
      "cell_type": "code",
      "execution_count": null,
      "metadata": {
        "id": "2uzG89K_u-Nm"
      },
      "outputs": [],
      "source": [
        "draw_neural_net(.1, .9, .1, .9, [2, 5, 1])"
      ]
    },
    {
      "cell_type": "code",
      "execution_count": null,
      "metadata": {
        "id": "2hZcH_DMu-Nn"
      },
      "outputs": [],
      "source": [
        "model = keras.Sequential()\n",
        "\n",
        "## The first layer need to have the input_shape\n",
        "## set the number of neurons\n",
        "model.add(layers.Dense(..., input_shape=(2,), activation='sigmoid'))\n",
        "\n",
        "# output layer\n",
        "model.add(layers.Dense(1, activation='sigmoid'))"
      ]
    },
    {
      "cell_type": "code",
      "execution_count": null,
      "metadata": {
        "id": "jI8Vqc1pu-Nq"
      },
      "outputs": [],
      "source": [
        "## compiling and training\n",
        "model.compile(\n",
        "    optimizer='adam',\n",
        "    loss='binary_crossentropy',\n",
        "    metrics=['accuracy']\n",
        ")\n",
        "model.fit(X_train, y_train, epochs=25, validation_split=0.2, batch_size=32)"
      ]
    },
    {
      "cell_type": "code",
      "execution_count": null,
      "metadata": {
        "id": "kytImbIPu-Nq"
      },
      "outputs": [],
      "source": [
        "results = model.evaluate(X_test, y_test, verbose=0)\n",
        "print('Test Loss: {}'.format(results[0]))\n",
        "print('Test Accuracy: {}'.format(results[1]))\n",
        "plot_decision_boundary(lambda x: (\n",
        "    model.predict(x) > 0.5).astype(\"int32\"), X_test, y_test)\n",
        "plt.title(\"1 Hidden layer NN, linear activation\");"
      ]
    },
    {
      "cell_type": "markdown",
      "metadata": {
        "id": "QJND9DBTu-Nr"
      },
      "source": [
        "### Question 3:\n",
        "####  What happens if we add one more hidden layer ?"
      ]
    },
    {
      "cell_type": "code",
      "execution_count": null,
      "metadata": {
        "id": "oxSC3V4Mu-Nr"
      },
      "outputs": [],
      "source": [
        "draw_neural_net(.1, .9, .1, .9, [2, 3, 3, 1])"
      ]
    },
    {
      "cell_type": "code",
      "execution_count": null,
      "metadata": {
        "id": "KqwBZruxu-Nr"
      },
      "outputs": [],
      "source": [
        "model = keras.Sequential()\n",
        "# First hidden layer (need to innclude input_shape)\n",
        "## Set the number of neurons\n",
        "model.add(layers.Dense(..., input_shape=(2,), activation='sigmoid'))\n",
        "\n",
        "# second hidden layer\n",
        "## Complete the code\n",
        "model.add(...\n",
        "\n",
        "# output layer\n",
        "model.add(layers.Dense(1, activation='sigmoid'))"
      ]
    },
    {
      "cell_type": "code",
      "execution_count": null,
      "metadata": {
        "id": "_dV-ObP-u-Nr"
      },
      "outputs": [],
      "source": [
        "## compiling and training\n",
        "model.compile(\n",
        "    optimizer='adam',\n",
        "    loss='binary_crossentropy',\n",
        "    metrics=['accuracy']\n",
        ")\n",
        "model.fit(X_train, y_train, epochs=25, validation_split=0.2, batch_size=32)"
      ]
    },
    {
      "cell_type": "code",
      "execution_count": null,
      "metadata": {
        "id": "1RVB_UqQu-Nr"
      },
      "outputs": [],
      "source": [
        "results = model.evaluate(X_test, y_test, verbose=0)\n",
        "print('Test Loss: {}'.format(results[0]))\n",
        "print('Test Accuracy: {}'.format(results[1]))\n",
        "plot_decision_boundary(lambda x: (\n",
        "    model.predict(x) > 0.5).astype(\"int32\"), X_test, y_test)\n",
        "plt.title(\"1 Hidden layer NN, linear activation\");"
      ]
    },
    {
      "cell_type": "markdown",
      "metadata": {
        "id": "-Enxebmju-Nr"
      },
      "source": [
        "####  Use  the [hyperbolic tangent](https://mathworld.wolfram.com/HyperbolicTangent.html) activation `'tanh'` with the first simple model and compare the results with the sigmoid activation"
      ]
    },
    {
      "cell_type": "code",
      "execution_count": null,
      "metadata": {
        "id": "lY-bDZlzu-Nr"
      },
      "outputs": [],
      "source": [
        "model = keras.Sequential()\n",
        "## The first layer need to have the input_shape\n",
        "## change the activation function\n",
        "model.add(layers.Dense(3, input_shape=(2,), activation=...))\n",
        "# output layer\n",
        "model.add(layers.Dense(1, activation='sigmoid'))"
      ]
    },
    {
      "cell_type": "code",
      "execution_count": null,
      "metadata": {
        "id": "U36_YDatu-Nr"
      },
      "outputs": [],
      "source": [
        "## compiling and training\n",
        "model.compile(\n",
        "    optimizer='adam',\n",
        "    loss='binary_crossentropy',\n",
        "    metrics=['accuracy']\n",
        ")\n",
        "model.fit(X_train, y_train, epochs=25, validation_split=0.2, batch_size=32)"
      ]
    },
    {
      "cell_type": "code",
      "execution_count": null,
      "metadata": {
        "id": "fd6YFui-u-Nr"
      },
      "outputs": [],
      "source": [
        "results = model.evaluate(X_test, y_test, verbose=0)\n",
        "print('Test Loss: {}'.format(results[0]))\n",
        "print('Test Accuracy: {}'.format(results[1]))\n",
        "plot_decision_boundary(lambda x: (\n",
        "    model.predict(x) > 0.5).astype(\"int32\"), X_test, y_test)\n",
        "plt.title(\"1 Hidden layer NN, linear activation\");"
      ]
    },
    {
      "cell_type": "markdown",
      "metadata": {
        "id": "kpOuKQZku-Nr"
      },
      "source": [
        "## Practice I\n",
        "\n",
        "Repeat the process with a different dataset."
      ]
    },
    {
      "cell_type": "code",
      "execution_count": null,
      "metadata": {
        "id": "o1opDmjEu-Nr"
      },
      "outputs": [],
      "source": [
        "N = 5000\n",
        "X, y = sklearn.datasets.make_moons(n_samples=N, noise=.18)"
      ]
    },
    {
      "cell_type": "code",
      "execution_count": null,
      "metadata": {
        "id": "h9D87KXeu-Ns"
      },
      "outputs": [],
      "source": [
        "# Visualize the data:\n",
        "plt.scatter(X[:,0], X[:,1], c=y.ravel(), s=40, cmap=plt.cm.Spectral);"
      ]
    },
    {
      "cell_type": "code",
      "execution_count": null,
      "metadata": {
        "id": "_jhvfhlTu-Ns"
      },
      "outputs": [],
      "source": [
        "# train test split\n",
        "from sklearn.model_selection import train_test_split\n",
        "\n",
        "(X_train, X_test, y_train, y_test) = train_test_split(\n",
        "    X,\n",
        "    y,\n",
        "    test_size=0.25,\n",
        ")\n",
        "print('X shape:{0}, y shape:{1}'.format(X.shape, y.shape))\n",
        "print('X_train shape:{0}, y_train shape:{1}'.format(X_train.shape,\n",
        "                                                    y_train.shape))\n",
        "print('X_test shape:{0}, y_test shape:{1}'.format(X_test.shape, y_test.shape))"
      ]
    },
    {
      "cell_type": "markdown",
      "metadata": {
        "id": "OuP8pLsGu-Ns"
      },
      "source": [
        "### Define your model"
      ]
    },
    {
      "cell_type": "code",
      "execution_count": null,
      "metadata": {
        "id": "ZFedyJ0au-Ns"
      },
      "outputs": [],
      "source": [
        "model = keras.Sequential()\n",
        "## The first layer need to have the input_shape\n",
        "model.add(layers...(..., input_shape=(...,), activation=...))\n",
        "\n",
        "## Second Layer, don't use input_shape\n",
        "model...(...)\n",
        "\n",
        "# output layer\n",
        "model.add(layers.Dense(..., activation=...))"
      ]
    },
    {
      "cell_type": "code",
      "execution_count": null,
      "metadata": {
        "id": "lSZLLUbvu-Ns"
      },
      "outputs": [],
      "source": [
        "## compiling and training\n",
        "model.compile(\n",
        "    optimizer='adam',\n",
        "    loss='binary_crossentropy',\n",
        "    metrics=['accuracy']\n",
        ")\n",
        "model.fit(X_train, y_train, epochs=35, validation_split=0.2, batch_size=64)"
      ]
    },
    {
      "cell_type": "code",
      "execution_count": null,
      "metadata": {
        "scrolled": true,
        "id": "emPM0Mmsu-Ns"
      },
      "outputs": [],
      "source": [
        "results = model.evaluate(X_test, y_test, verbose=0)\n",
        "print('Test Loss: {}'.format(results[0]))\n",
        "print('Test Accuracy: {}'.format(results[1]))\n",
        "plot_decision_boundary(lambda x: (\n",
        "    model.predict(x) > 0.5).astype(\"int32\"), X_test, y_test)"
      ]
    },
    {
      "cell_type": "markdown",
      "metadata": {
        "id": "X1IpL-IFu-Ns"
      },
      "source": [
        "## Saving and Loading Keras Models\n",
        "\n",
        "You can easily save your entire model (architecture, weights, and optimizer state) in a single call using either `.keras` or `.h5` formats.\n",
        "\n",
        "- **`.keras`**: The default and recommended format from TensorFlow 2.12 onwards. It includes comprehensive model metadata and is future-proof.\n",
        "- **`.h5`**: An older HDF5 format that is still widely used due to its simplicity and compatibility.\n"
      ]
    },
    {
      "cell_type": "code",
      "execution_count": null,
      "metadata": {
        "id": "wang2GBWu-Ns"
      },
      "outputs": [],
      "source": [
        "import datetime\n",
        "\n",
        "# Save model with timestamp\n",
        "current_time = datetime.datetime.now().strftime(\"%Y%m%d-%H%M%S\")\n",
        "model_name_keras = f\"keras_model_{current_time}.keras\"\n",
        "model_name_h5 = f\"keras_model_{current_time}.h5\"\n",
        "\n",
        "# Save in .keras format (recommended for TensorFlow/Keras > 2.12)\n",
        "model.save(model_name_keras)\n",
        "\n",
        "# Alternatively, save in .h5 format\n",
        "model.save(model_name_h5)\n",
        "\n",
        "print(f\"Models saved as: {model_name_keras} and {model_name_h5}\")"
      ]
    },
    {
      "cell_type": "code",
      "execution_count": null,
      "metadata": {
        "id": "pvSKGKhvu-Ns"
      },
      "outputs": [],
      "source": [
        "# List files in current directory\n",
        "!ls -l"
      ]
    },
    {
      "cell_type": "code",
      "execution_count": null,
      "metadata": {
        "id": "HWQSIFtmu-Ns"
      },
      "outputs": [],
      "source": [
        "from tensorflow.keras.models import load_model\n",
        "\n",
        "# Load your previously saved model\n",
        "loaded_model = load_model(model_name_keras)  # or .h5\n",
        "\n",
        "# Evaluate loaded model\n",
        "loss, accuracy = loaded_model.evaluate(X_test, y_test)\n",
        "print(f\"Loaded model accuracy: {accuracy*100:.2f}%\")"
      ]
    },
    {
      "cell_type": "markdown",
      "metadata": {
        "id": "TvMBl5UUu-Nt"
      },
      "source": [
        "### Question 4: Train 10 epochs, save the model, load it, and then train 10 more epochs"
      ]
    },
    {
      "cell_type": "code",
      "execution_count": null,
      "metadata": {
        "id": "gTydMpBdu-Nt"
      },
      "outputs": [],
      "source": [
        "model = keras.Sequential()\n",
        "## The first layer need to have the input_shape\n",
        "model.add(layers...(..., input_shape=(...,), activation=...))\n",
        "\n",
        "## Second Layer, don't use input_shape\n",
        "model...(...)\n",
        "\n",
        "# output layer\n",
        "model.add(layers.Dense(..., activation=...))"
      ]
    },
    {
      "cell_type": "code",
      "execution_count": null,
      "metadata": {
        "id": "d0BHv3Euu-Nt"
      },
      "outputs": [],
      "source": [
        "## compiling and training\n",
        "model.compile(\n",
        "    optimizer='adam',\n",
        "    loss='binary_crossentropy',\n",
        "    metrics=['accuracy']\n",
        ")\n",
        "model.fit(X_train, y_train, epochs=..., validation_split=0.2, batch_size=64)"
      ]
    },
    {
      "cell_type": "code",
      "execution_count": null,
      "metadata": {
        "id": "tGqVKmr8u-Nt"
      },
      "outputs": [],
      "source": [
        "# Save the model\n",
        "model_name = ...\n",
        "model.save(..."
      ]
    },
    {
      "cell_type": "code",
      "execution_count": null,
      "metadata": {
        "id": "wRk5GWM7u-Nt"
      },
      "outputs": [],
      "source": [
        "# load the model\n",
        "\n"
      ]
    },
    {
      "cell_type": "code",
      "execution_count": null,
      "metadata": {
        "id": "WIJBYXKxu-Nt"
      },
      "outputs": [],
      "source": [
        "# Train the model 10 more epochs\n",
        "model.fit(X_train, y_train, epochs=..., validation_split=0.2, batch_size=64)"
      ]
    },
    {
      "cell_type": "markdown",
      "metadata": {
        "id": "q3VvIoOpu-Nt"
      },
      "source": [
        "## Functional API\n",
        "\n",
        "The Keras Functional API allows defining the topology of the models as a [acyclic directed graph](https://en.wikipedia.org/wiki/Directed_acyclic_graph) of layers. Next we will build the same model as in the previous section but using the Keras Functional API.\n",
        "\n",
        "You need to start with an input data entry:\n",
        "```python    \n",
        "    inputs = keras.Input(shape=(8,))\n",
        "```\n",
        "    \n",
        "We define the layers that we will include in the network and the relationships between them. It is important to note that each line details the type of layer and its properties (number of neurons, activation function, name ...) and just at the end, in parentheses, the name of the variable in which we have saved the layer from which its output will connect to the input of the layer we are declaring.\n",
        "```python\n",
        "layer_1 = layers.Dense(4, activation='sigmoid',\n",
        "                       name='layer_1')(inputs)\n",
        "layer_2 = layers.Dense(4, activation='sigmoid',\n",
        "                       name='layer_2')(layer_1)\n",
        "```\n",
        "\n",
        "The \"layer call\" `Dense()(inputs)` action is like drawing an arrow from \"inputs\" to this layer you created. You're \"passing\" the inputs to the dense layer, and you get `layer_1` as the output.\n",
        "\n",
        "  \n",
        "\n",
        "Finally, we define the network outputs:\n",
        "```python\n",
        "outputs = layers.Dense(1, name='output_layer')(layer_2)\n",
        "```\n",
        "\n",
        "We create the model specifying the inputs and outputs:\n",
        "```python\n",
        "model = keras.Model(inputs=inputs, outputs=outputs)\n",
        "```"
      ]
    },
    {
      "cell_type": "code",
      "execution_count": null,
      "metadata": {
        "id": "_KCDpNbRu-Nt"
      },
      "outputs": [],
      "source": [
        "draw_neural_net(.1, .9, .1, .9, [8, 4, 4, 1])"
      ]
    },
    {
      "cell_type": "code",
      "execution_count": null,
      "metadata": {
        "id": "d9X9gdsJu-Nt"
      },
      "outputs": [],
      "source": [
        "inputs = keras.Input(shape=(8, ), name='input_layer')\n",
        "l_1 = layers.Dense(4, activation='relu', name='layer_1')(inputs)\n",
        "l_2 = layers.Dense(4, activation='relu', name='layer_2')(l_1)\n",
        "outputs = layers.Dense(1, activation=\"sigmoid\", name='output_layer')(l_2)\n",
        "\n",
        "model = keras.Model(inputs=inputs, outputs=outputs, name='example_model')\n",
        "\n",
        "model.summary()"
      ]
    },
    {
      "cell_type": "code",
      "execution_count": null,
      "metadata": {
        "id": "LJEiSPD7u-Nt"
      },
      "outputs": [],
      "source": [
        "plot_model(model, show_shapes=True)"
      ]
    },
    {
      "cell_type": "markdown",
      "metadata": {
        "id": "evaDEJoxu-Nt"
      },
      "source": [
        "## Practice II\n",
        "\n",
        "Repeat the process with a different dataset and the **Functional API**"
      ]
    },
    {
      "cell_type": "code",
      "execution_count": null,
      "metadata": {
        "id": "6rFAlVL9u-Nu"
      },
      "outputs": [],
      "source": [
        "N = 5000\n",
        "X, y = sklearn.datasets.make_circles(n_samples=N, factor=.65, noise=.065) # sklearn.datasets.make_moons(n_samples=N, noise=.15)"
      ]
    },
    {
      "cell_type": "code",
      "execution_count": null,
      "metadata": {
        "id": "NfLg9oAOu-Nu"
      },
      "outputs": [],
      "source": [
        "# Visualize the data:\n",
        "plt.scatter(X[:,0], X[:,1], c=y.ravel(), s=40, cmap=plt.cm.Spectral);"
      ]
    },
    {
      "cell_type": "code",
      "execution_count": null,
      "metadata": {
        "id": "qrgC6rAWu-Nu"
      },
      "outputs": [],
      "source": [
        "# train test split\n",
        "from sklearn.model_selection import train_test_split\n",
        "\n",
        "(X_train, X_test, y_train, y_test) = train_test_split(\n",
        "    X,\n",
        "    y,\n",
        "    test_size=0.25,\n",
        ")\n",
        "print('X shape:{0}, y shape:{1}'.format(X.shape, y.shape))\n",
        "print('X_train shape:{0}, y_train shape:{1}'.format(X_train.shape,\n",
        "                                                    y_train.shape))\n",
        "print('X_test shape:{0}, y_test shape:{1}'.format(X_test.shape, y_test.shape))"
      ]
    },
    {
      "cell_type": "markdown",
      "metadata": {
        "id": "lnTyTdgVu-Nu"
      },
      "source": [
        "### Define your model"
      ]
    },
    {
      "cell_type": "code",
      "execution_count": null,
      "metadata": {
        "id": "OGD-WAYuu-Nu"
      },
      "outputs": [],
      "source": [
        "inputs = keras.Input(shape=(2, ), name='input_layer')\n",
        "## First hidden layer\n",
        "l_1 = layers.Dense(...)(inputs)\n",
        "...\n",
        "\n",
        "## output layer\n",
        "outputs = layers.Dense(...\n",
        "\n",
        "\n",
        "model = keras.Model(inputs=inputs,..."
      ]
    },
    {
      "cell_type": "code",
      "execution_count": null,
      "metadata": {
        "id": "ooAYvLOSu-Nu"
      },
      "outputs": [],
      "source": [
        "## compiling and training\n",
        "model.compile(\n",
        "    optimizer='adam',\n",
        "    loss='binary_crossentropy',\n",
        "    metrics=['accuracy']\n",
        ")\n",
        "model.fit(X_train, y_train, epochs=35, validation_split=0.2, batch_size=64)"
      ]
    },
    {
      "cell_type": "code",
      "execution_count": null,
      "metadata": {
        "id": "EuzFlAuSu-Nu"
      },
      "outputs": [],
      "source": [
        "results = model.evaluate(X_test, y_test, verbose=0)\n",
        "print('Test Loss: {}'.format(results[0]))\n",
        "print('Test Accuracy: {}'.format(results[1]))\n",
        "plot_decision_boundary(lambda x: (\n",
        "    model.predict(x) > 0.5).astype(\"int32\"), X_test, y_test)"
      ]
    },
    {
      "cell_type": "markdown",
      "metadata": {
        "id": "kBK787Yhu-Nu"
      },
      "source": [
        "## Visualize decision boundary by epoch"
      ]
    },
    {
      "cell_type": "code",
      "execution_count": null,
      "metadata": {
        "id": "zh9Wypwdu-Nu"
      },
      "outputs": [],
      "source": [
        "from sklearn.preprocessing import StandardScaler\n",
        "from IPython.display import Image\n",
        "import os"
      ]
    },
    {
      "cell_type": "code",
      "execution_count": null,
      "metadata": {
        "id": "BAua7bQYu-Nu"
      },
      "outputs": [],
      "source": [
        "def plot_save_decision_boundary(model, X, y, epoch, epoch_image):\n",
        "    h = 0.1\n",
        "    x_min, x_max = X[:, 0].min() - 1, X[:, 0].max() + 1\n",
        "    y_min, y_max = X[:, 1].min() - 1, X[:, 1].max() + 1\n",
        "    xx, yy = np.meshgrid(np.arange(x_min, x_max, h),\n",
        "                         np.arange(y_min, y_max, h))\n",
        "\n",
        "    X_grid = np.c_[xx.ravel(), yy.ravel()]\n",
        "    Z = model.predict(X_grid)\n",
        "    Z = Z.reshape(xx.shape)\n",
        "\n",
        "    plt.contourf(xx, yy, Z, alpha=0.5, colors=['blue', 'red'], levels=[-0.5, 0.5, 1.5])\n",
        "    plt.scatter(X[y[:, 0] == 0][:, 0], X[y[:, 0] == 0][:, 1], color='blue', label='Class 0', alpha=0.5)\n",
        "    plt.scatter(X[y[:, 0] == 1][:, 0], X[y[:, 0] == 1][:, 1], color='red', label='Class 1', alpha=0.5)\n",
        "    plt.title(f'Epoch {epoch}')\n",
        "    plt.savefig(epoch_image)\n",
        "    plt.close()\n",
        "\n",
        "def generate_spiral_dataset(n_points, noise=0.5):\n",
        "    n = np.sqrt(np.random.rand(n_points, 1)) * 780 * (2 * np.pi) / 360\n",
        "    d1x = -np.cos(n) * n + np.random.rand(n_points, 1) * noise\n",
        "    d1y = np.sin(n) * n + np.random.rand(n_points, 1) * noise\n",
        "\n",
        "    X, y = (np.vstack((np.hstack((d1x, d1y)), np.hstack((-d1x, -d1y)))),\n",
        "            np.hstack((np.zeros(n_points), np.ones(n_points))))\n",
        "    return X, y.reshape(-1, 1)\n",
        "\n",
        "n_points = 2500\n",
        "X, y = generate_spiral_dataset(n_points)"
      ]
    },
    {
      "cell_type": "code",
      "execution_count": null,
      "metadata": {
        "id": "hoBPWmdnu-Nu"
      },
      "outputs": [],
      "source": [
        "plt.scatter(X[y[:, 0] == 0][:, 0], X[y[:, 0] == 0][:, 1], color='blue', label='Class 0')\n",
        "plt.scatter(X[y[:, 0] == 1][:, 0], X[y[:, 0] == 1][:, 1], color='red', label='Class 1')\n",
        "plt.legend()\n",
        "plt.show()"
      ]
    },
    {
      "cell_type": "code",
      "execution_count": null,
      "metadata": {
        "id": "TGuLfikju-Nv"
      },
      "outputs": [],
      "source": [
        "# Normalize data\n",
        "X_train, X_test, y_train, y_test = train_test_split(X, y, test_size=0.3, random_state=42)\n",
        "scaler = StandardScaler()\n",
        "X_train = scaler.fit_transform(X_train)\n",
        "X_test = scaler.transform(X_test)"
      ]
    },
    {
      "cell_type": "code",
      "execution_count": null,
      "metadata": {
        "id": "9hUnKIK5u-Nv"
      },
      "outputs": [],
      "source": [
        "model = tf.keras.Sequential([\n",
        "    tf.keras.layers.Dense(16, activation='relu', input_shape=(2,)),\n",
        "    tf.keras.layers.Dense(1, activation='sigmoid')\n",
        "])\n",
        "\n",
        "model.compile(optimizer=tf.keras.optimizers.Adam(learning_rate=0.01),\n",
        "              loss='binary_crossentropy',\n",
        "              metrics=['accuracy'])\n",
        "\n",
        "n_epochs = 60\n",
        "epoch_images = []\n",
        "\n",
        "for epoch in range(n_epochs):\n",
        "    model.fit(X_train, y_train, epochs=1, verbose=0)\n",
        "    epoch_image = f'epoch_{epoch}.png'\n",
        "    epoch_images.append(epoch_image)\n",
        "\n",
        "    plot_save_decision_boundary(model, X_test, y_test, epoch, epoch_image)"
      ]
    },
    {
      "cell_type": "code",
      "execution_count": null,
      "metadata": {
        "id": "RQHUotMou-Nv"
      },
      "outputs": [],
      "source": [
        "from PIL import Image as Image_PIL\n",
        "\n",
        "# Create the GIF\n",
        "gif_filename = 'epoch_animation.gif'\n",
        "images = [Image_PIL.open(epoch_image) for epoch_image in epoch_images]\n",
        "\n",
        "duration = 0.15\n",
        "images[0].save(gif_filename,\n",
        "            format='GIF',\n",
        "            append_images=images[1:],\n",
        "            save_all=True,\n",
        "            duration=duration*1000,\n",
        "            loop=0)\n",
        "\n",
        "# Delete the individual epoch images\n",
        "for epoch_image in epoch_images:\n",
        "    os.remove(epoch_image)"
      ]
    },
    {
      "cell_type": "code",
      "execution_count": null,
      "metadata": {
        "id": "3WK5XGJJu-Nv"
      },
      "outputs": [],
      "source": [
        "# Display the GIF\n",
        "Image(filename=gif_filename)"
      ]
    }
  ],
  "metadata": {
    "coursera": {
      "course_slug": "neural-networks-deep-learning",
      "graded_item_id": "wRuwL",
      "launcher_item_id": "NI888"
    },
    "kernelspec": {
      "display_name": "Python 3 (ipykernel)",
      "language": "python",
      "name": "python3"
    },
    "language_info": {
      "codemirror_mode": {
        "name": "ipython",
        "version": 3
      },
      "file_extension": ".py",
      "mimetype": "text/x-python",
      "name": "python",
      "nbconvert_exporter": "python",
      "pygments_lexer": "ipython3",
      "version": "3.11.10"
    },
    "latex_envs": {
      "LaTeX_envs_menu_present": true,
      "autoclose": false,
      "autocomplete": true,
      "bibliofile": "biblio.bib",
      "cite_by": "apalike",
      "current_citInitial": 1,
      "eqLabelWithNumbers": true,
      "eqNumInitial": 1,
      "hotkeys": {
        "equation": "Ctrl-E",
        "itemize": "Ctrl-I"
      },
      "labels_anchors": false,
      "latex_user_defs": false,
      "report_style_numbering": false,
      "user_envs_cfg": false
    },
    "toc": {
      "base_numbering": 1,
      "nav_menu": {},
      "number_sections": true,
      "sideBar": true,
      "skip_h1_title": false,
      "title_cell": "Table of Contents",
      "title_sidebar": "Contents",
      "toc_cell": false,
      "toc_position": {},
      "toc_section_display": true,
      "toc_window_display": false
    },
    "colab": {
      "provenance": []
    }
  },
  "nbformat": 4,
  "nbformat_minor": 0
}